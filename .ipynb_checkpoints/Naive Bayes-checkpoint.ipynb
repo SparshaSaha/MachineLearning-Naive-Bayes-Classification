{
 "cells": [
  {
   "cell_type": "code",
   "execution_count": 34,
   "metadata": {},
   "outputs": [],
   "source": [
    "import numpy\n",
    "\n",
    "data=[[0,0],[0,1],[0,2],[1,2]]\n",
    "output=[0,2,0,1]\n",
    "n_classes=3\n",
    "\n",
    "no0=0\n",
    "no1=0\n",
    "for i in output:\n",
    "    if i==0:\n",
    "        no0+=1\n",
    "    else:\n",
    "        no1+=1\n",
    "\n",
    "\n"
   ]
  },
  {
   "cell_type": "code",
   "execution_count": 35,
   "metadata": {},
   "outputs": [],
   "source": [
    "def find_yes_no_for_query(query,position):\n",
    "    count_yes=0\n",
    "    count_no=0\n",
    "    for i in range(len(data)):\n",
    "        if(data[i][position]==query and output[i]==1):\n",
    "            count_yes+=1\n",
    "        elif(data[i][position]==query and output[i]==0):\n",
    "            count_no+=1\n",
    "    return count_yes,count_no"
   ]
  },
  {
   "cell_type": "code",
   "execution_count": 36,
   "metadata": {},
   "outputs": [],
   "source": [
    "def find_counts_gen(query,position):\n",
    "    class_count=[]\n",
    "    for i in range(n_classes):\n",
    "        count=0\n",
    "        for j in range(len(data)):\n",
    "            if(data[j][position]==query and output[j]==i):\n",
    "                count+=1\n",
    "        class_count.append(count)\n",
    "    return class_count\n",
    "    "
   ]
  },
  {
   "cell_type": "code",
   "execution_count": 37,
   "metadata": {},
   "outputs": [],
   "source": [
    "def find_class_counts():\n",
    "    classcount=[]\n",
    "    for i in range(n_classes):\n",
    "        count=0\n",
    "        for j in output:\n",
    "            if(i==j):\n",
    "                count+=1\n",
    "        classcount.append(count)\n",
    "    return classcount"
   ]
  },
  {
   "cell_type": "code",
   "execution_count": 38,
   "metadata": {},
   "outputs": [
    {
     "name": "stdout",
     "output_type": "stream",
     "text": [
      "[[0, 1, 0], [1, 1, 0]]\n"
     ]
    }
   ],
   "source": [
    "quer=[1,2]\n",
    "class_count_arr=find_class_counts()\n",
    "\n",
    "\n",
    "c_list=[]\n",
    "\n",
    "for i in range(len(query)):\n",
    "    c_list.append(find_counts_gen(quer[i],i))\n",
    "print(c_list)\n",
    "    \n",
    "    #for i in range(n_classes):\n",
    "        \n",
    "         \n",
    "    "
   ]
  },
  {
   "cell_type": "code",
   "execution_count": 27,
   "metadata": {},
   "outputs": [
    {
     "name": "stdout",
     "output_type": "stream",
     "text": [
      "yes\n"
     ]
    }
   ],
   "source": [
    "query=[1,2]\n",
    "\n",
    "arofprobs=[]\n",
    "for i in range(len(query)):\n",
    "    py,pn=find_yes_no_for_query(query[i],i)\n",
    "    \n",
    "    py=float(py)/float(no1)\n",
    "    pn=float(pn)/float(no0)\n",
    "    \n",
    "    cond_proby=py\n",
    "    cond_probx=pn\n",
    "    \n",
    "    arofprobs.append([cond_proby,cond_probx])\n",
    "\n",
    "\n",
    "pro1=1\n",
    "pro0=1\n",
    "for i in arofprobs:\n",
    "    pro1=pro1*i[0]\n",
    "    pro0=pro0*i[1]\n",
    "    \n",
    "pro1=pro1*no1/float(no0+no1)\n",
    "pro0=pro0*no0/float(no0+no1)\n",
    "\n",
    "if(pro1>=pro0):\n",
    "    print(\"yes\")\n",
    "else:\n",
    "    print(\"no\")\n",
    "\n"
   ]
  },
  {
   "cell_type": "code",
   "execution_count": null,
   "metadata": {},
   "outputs": [],
   "source": []
  }
 ],
 "metadata": {
  "kernelspec": {
   "display_name": "Python 3",
   "language": "python",
   "name": "python3"
  },
  "language_info": {
   "codemirror_mode": {
    "name": "ipython",
    "version": 2
   },
   "file_extension": ".py",
   "mimetype": "text/x-python",
   "name": "python",
   "nbconvert_exporter": "python",
   "pygments_lexer": "ipython2",
   "version": "2.7.12+"
  }
 },
 "nbformat": 4,
 "nbformat_minor": 2
}
