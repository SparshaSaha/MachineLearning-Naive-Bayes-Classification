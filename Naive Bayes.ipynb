{
 "cells": [
  {
   "cell_type": "code",
   "execution_count": 42,
   "metadata": {},
   "outputs": [],
   "source": [
    "#Code by Sparsha\n",
    "import numpy\n",
    "\n",
    "data=[[0,0],[0,1],[1,0],[1,1]]\n",
    "output=[0,0,0,1]\n",
    "n_classes=2\n"
   ]
  },
  {
   "cell_type": "code",
   "execution_count": 43,
   "metadata": {},
   "outputs": [],
   "source": [
    "def find_class_counts():\n",
    "    classcount=[]\n",
    "    for i in range(n_classes):\n",
    "        count=0\n",
    "        for j in output:\n",
    "            if(i==j):\n",
    "                count+=1\n",
    "        classcount.append(count)\n",
    "    return classcount"
   ]
  },
  {
   "cell_type": "code",
   "execution_count": 44,
   "metadata": {},
   "outputs": [
    {
     "name": "stdout",
     "output_type": "stream",
     "text": [
      "Class chosen is: 1\n"
     ]
    }
   ],
   "source": [
    "quer=[1,1]\n",
    "class_count_arr=find_class_counts()\n",
    "\n",
    "\n",
    "c_list=[]\n",
    "ar_of_probs=[]\n",
    "\n",
    "for i in range(len(query)):\n",
    "    f=(find_counts_gen(quer[i],i))\n",
    "    c_list.append(f)\n",
    "    curr_arr=[]\n",
    "    for j in range(n_classes):\n",
    "        curr_arr.append(f[j]/float(class_count_arr[j]))\n",
    "    ar_of_probs.append(curr_arr)\n",
    "        \n",
    "\n",
    "cond_arr=[]\n",
    "\n",
    "for i in range(n_classes):\n",
    "    c=1\n",
    "    for j in ar_of_probs:\n",
    "        c=c*j[i]\n",
    "    cond_arr.append(c)\n",
    "\n",
    "\n",
    "for i in range(n_classes):\n",
    "    cond_arr[i]=cond_arr[i]*class_count_arr[i]/float(len(data))\n",
    "\n",
    "class_chosen=0\n",
    "max_prob=0\n",
    "\n",
    "for i in range(len(cond_arr)):\n",
    "    if(cond_arr[i]>max_prob):\n",
    "        max_prob=cond_arr[i]\n",
    "        class_chosen=i\n",
    "\n",
    "print(\"Class chosen is: \"+str(class_chosen))    "
   ]
  },
  {
   "cell_type": "code",
   "execution_count": null,
   "metadata": {},
   "outputs": [],
   "source": []
  },
  {
   "cell_type": "code",
   "execution_count": null,
   "metadata": {},
   "outputs": [],
   "source": []
  }
 ],
 "metadata": {
  "kernelspec": {
   "display_name": "Python 3",
   "language": "python",
   "name": "python3"
  },
  "language_info": {
   "codemirror_mode": {
    "name": "ipython",
    "version": 2
   },
   "file_extension": ".py",
   "mimetype": "text/x-python",
   "name": "python",
   "nbconvert_exporter": "python",
   "pygments_lexer": "ipython2",
   "version": "2.7.12+"
  }
 },
 "nbformat": 4,
 "nbformat_minor": 2
}
